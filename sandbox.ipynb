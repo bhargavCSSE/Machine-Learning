{
 "nbformat": 4,
 "nbformat_minor": 2,
 "metadata": {
  "language_info": {
   "name": "python",
   "codemirror_mode": {
    "name": "ipython",
    "version": 3
   },
   "version": "3.8.1-final"
  },
  "orig_nbformat": 2,
  "file_extension": ".py",
  "mimetype": "text/x-python",
  "name": "python",
  "npconvert_exporter": "python",
  "pygments_lexer": "ipython3",
  "version": 3,
  "kernelspec": {
   "name": "python38164bit65be82c22d0e493f990b2b0ad6e528de",
   "display_name": "Python 3.8.1 64-bit"
  }
 },
 "cells": [
  {
   "cell_type": "code",
   "execution_count": 1,
   "metadata": {},
   "outputs": [],
   "source": [
    "import numpy as np\n",
    "import pandas as pd\n",
    "import math\n",
    "from sklearn.datasets import load_iris\n",
    "\n",
    "class DecisionTree(object):\n",
    "    def __init__(self):\n",
    "        self.x = pd.DataFrame()\n",
    "        self.y = np.array([])\n",
    "    \n",
    "    def readfile(self, filename):\n",
    "        x = []\n",
    "        y = []\n",
    "        data = open(filename)\n",
    "        for index, line in enumerate(data):\n",
    "            line = line.split(None, 1)\n",
    "            if len(line) == 1:\n",
    "                line += ['']\n",
    "            label, features = line\n",
    "            y.append(float(label))\n",
    "            temp_x = {}\n",
    "            for elem in features.split(None):\n",
    "                name, value = elem.split(':')\n",
    "                temp_x[int(name)] = (float(value))\n",
    "            x = x + [temp_x]\n",
    "        x = pd.DataFrame(x).fillna(-1)\n",
    "        return x, y\n",
    "\n",
    "    def entropy(self, count, n):\n",
    "        p = count/n\n",
    "        return -p*math.log(p)\n",
    "\n",
    "    def get_entropy(self, Cy, total):\n",
    "        return self.entropy(Cy, total) + self.entropy((total - Cy), total)\n",
    "\n",
    "    def infoGain(self, Cy, ty, Cyx, tyx):\n",
    "        infoGain = self.get_entropy(Cy, ty) + self.get_entropy(Cyx, tyx)\n",
    "        return infoGain\n",
    "\n",
    "    def evaluate_split(self, feature, labels, value):\n",
    "        tp = 0\n",
    "        tn = 0\n",
    "        fp = 0\n",
    "        fn = 0\n",
    "        for test_instance_result, label in zip(feature, labels):\n",
    "            if ((test_instance_result > value) and (label > value)):\n",
    "                tp += 1\n",
    "            if ((test_instance_result <= value) and (label <= value)):\n",
    "                tn += 1\n",
    "            if ((test_instance_result > value) and (label <= value)):\n",
    "                fp += 1\n",
    "            if ((test_instance_result <= value) and (label > value)):\n",
    "                fn += 1\n",
    "        return tp, tn, fp, fn\n",
    "\n",
    "    def find_best_split(x, y):\n",
    "        classes = np.unique(y)\n",
    "        \n",
    "        for i in range(0, len(y)):\n",
    "     pass\n",
    "fo ele i classes               pass\n",
    "\n",
    "        for i in range(0, np.size(x, 1)):\n",
    "            tp, tn, fp, fn = evaluate_split(x[                     infoGain = np.array([self.infoGain()])"
   ]
  },
  {
   "cell_type": "code",
   "execution_count": 2,
   "metadata": {},
   "outputs": [],
   "source": [
    "clf = DecisionTree()\n",
    "x, y = clf.readfile('Dataset/a4a.txt')\n",
    "x = np.array(x)\n"
   ]
  },
  {
   "cell_type": "code",
   "execution_count": null,
   "metadata": {},
   "outputs": [],
   "source": []
  }
 ]
}