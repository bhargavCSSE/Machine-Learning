{
 "cells": [
  {
   "cell_type": "code",
   "execution_count": 1,
   "metadata": {},
   "outputs": [
    {
     "output_type": "stream",
     "name": "stderr",
     "text": "Using TensorFlow backend.\n"
    }
   ],
   "source": [
    "import keras\n",
    "from keras.layers import Conv2D, MaxPooling2D, Dense, Flatten\n",
    "import numpy as np\n",
    "from sklearn.datasets import load_svmlight_file"
   ]
  },
  {
   "cell_type": "code",
   "execution_count": 2,
   "metadata": {},
   "outputs": [],
   "source": [
    "x, y = load_svmlight_file('Datasets/mnist.scale')\n",
    "x = x.toarray()\n",
    "y_train = y.astype(int)\n",
    "\n",
    "x_train = []\n",
    "for i in range(x.shape[0]):\n",
    "    x_train.append(np.append(x[i], [0, 0, 0, 0]))"
   ]
  },
  {
   "cell_type": "code",
   "execution_count": 3,
   "metadata": {},
   "outputs": [],
   "source": [
    "x, y = load_svmlight_file('Datasets/mnist.scale.t')\n",
    "x = x.toarray()\n",
    "y_test = y.astype(int)\n",
    "\n",
    "x_test = []\n",
    "for i in range(x.shape[0]):\n",
    "    x_test.append(np.append([0], x[i]))\n",
    "    x_test[i] = np.append(x_test[i], [0, 0, 0, 0, 0])"
   ]
  },
  {
   "cell_type": "code",
   "execution_count": 4,
   "metadata": {},
   "outputs": [],
   "source": [
    "train_images = np.array(x_train).reshape(60000, 28, 28, 1)\n",
    "train_labels = y_train\n",
    "\n",
    "train_labels = np.zeros((np.size(y_train, 0), len(np.unique(y_train))))\n",
    "for i in range(np.size(y_train, 0)):\n",
    "    train_labels[i, y_train[i]] = 1\n",
    "\n",
    "\n",
    "test_images = np.array(x_test).reshape(10000, 28, 28, 1)\n",
    "test_labels = y_test\n",
    "\n",
    "test_labels = np.zeros((np.size(y_test, 0), len(np.unique(y_test))))\n",
    "for i in range(np.size(y_test, 0)):\n",
    "    test_labels[i, y_test[i]] = 1"
   ]
  },
  {
   "cell_type": "code",
   "execution_count": 5,
   "metadata": {},
   "outputs": [],
   "source": [
    "model = keras.Sequential()\n",
    "model.add(Conv2D(32, kernel_size=(5, 5), strides=(1, 1),activation='relu', input_shape=(28, 28, 1)))\n",
    "model.add(MaxPooling2D(pool_size=(2, 2), strides=(2, 2)))\n",
    "model.add(Conv2D(64, (5, 5), activation='relu'))\n",
    "model.add(MaxPooling2D(pool_size=(2, 2)))\n",
    "model.add(Flatten())\n",
    "model.add(Dense(1000, activation='relu'))\n",
    "model.add(Dense(10, activation='softmax'))"
   ]
  },
  {
   "cell_type": "code",
   "execution_count": 6,
   "metadata": {},
   "outputs": [],
   "source": [
    "model.compile(optimizer='adam', loss='categorical_crossentropy', metrics=['accuracy'])"
   ]
  },
  {
   "cell_type": "code",
   "execution_count": 9,
   "metadata": {},
   "outputs": [
    {
     "output_type": "stream",
     "name": "stdout",
     "text": "Time elaspsed: 1.1551599502563477\nTest loss: 0.052087751825918224\nTest accuracy: 0.9900000095367432\n"
    }
   ],
   "source": [
    "import time\n",
    "\n",
    "start_time = time.time()\n",
    "score = model.evaluate(test_images, test_labels, verbose=0)\n",
    "\n",
    "print('Time elaspsed: {}'.format(time.time() - start_time))\n",
    "print('Test loss:', score[0])\n",
    "print('Test accuracy:', score[1])"
   ]
  },
  {
   "cell_type": "code",
   "execution_count": 7,
   "metadata": {},
   "outputs": [
    {
     "output_type": "stream",
     "name": "stdout",
     "text": "Epoch 1/20\n60000/60000 [==============================] - 27s 442us/step - loss: 0.1973 - accuracy: 0.9405\nEpoch 2/20\n60000/60000 [==============================] - 26s 426us/step - loss: 0.0486 - accuracy: 0.9850\nEpoch 3/20\n60000/60000 [==============================] - 25s 423us/step - loss: 0.0317 - accuracy: 0.9902\nEpoch 4/20\n60000/60000 [==============================] - 26s 427us/step - loss: 0.0228 - accuracy: 0.9927\nEpoch 5/20\n60000/60000 [==============================] - 26s 429us/step - loss: 0.0173 - accuracy: 0.9944\nEpoch 6/20\n60000/60000 [==============================] - 671s 11ms/step - loss: 0.0145 - accuracy: 0.9953\nEpoch 7/20\n60000/60000 [==============================] - 29s 480us/step - loss: 0.0108 - accuracy: 0.9968\nEpoch 8/20\n60000/60000 [==============================] - 27s 455us/step - loss: 0.0097 - accuracy: 0.9968\nEpoch 9/20\n60000/60000 [==============================] - 28s 464us/step - loss: 0.0080 - accuracy: 0.9975\nEpoch 10/20\n60000/60000 [==============================] - 26s 436us/step - loss: 0.0072 - accuracy: 0.9977\nEpoch 11/20\n60000/60000 [==============================] - 26s 438us/step - loss: 0.0070 - accuracy: 0.9977\nEpoch 12/20\n60000/60000 [==============================] - 26s 438us/step - loss: 0.0065 - accuracy: 0.9982\nEpoch 13/20\n60000/60000 [==============================] - 27s 444us/step - loss: 0.0036 - accuracy: 0.9987\nEpoch 14/20\n60000/60000 [==============================] - 28s 463us/step - loss: 0.0042 - accuracy: 0.9986\nEpoch 15/20\n60000/60000 [==============================] - 27s 456us/step - loss: 0.0049 - accuracy: 0.9984\nEpoch 16/20\n60000/60000 [==============================] - 27s 452us/step - loss: 0.0030 - accuracy: 0.9989\nEpoch 17/20\n60000/60000 [==============================] - 27s 456us/step - loss: 0.0046 - accuracy: 0.9985\nEpoch 18/20\n60000/60000 [==============================] - 27s 455us/step - loss: 0.0054 - accuracy: 0.9982\nEpoch 19/20\n60000/60000 [==============================] - 27s 450us/step - loss: 0.0038 - accuracy: 0.9989\nEpoch 20/20\n60000/60000 [==============================] - 27s 449us/step - loss: 0.0019 - accuracy: 0.9995\n"
    },
    {
     "output_type": "execute_result",
     "data": {
      "text/plain": "<keras.callbacks.callbacks.History at 0x14a720eb0>"
     },
     "metadata": {},
     "execution_count": 7
    }
   ],
   "source": [
    "model.fit(train_images, train_labels, batch_size=200, epochs=20)"
   ]
  },
  {
   "cell_type": "code",
   "execution_count": null,
   "metadata": {},
   "outputs": [],
   "source": []
  }
 ],
 "metadata": {
  "language_info": {
   "codemirror_mode": {
    "name": "ipython",
    "version": 3
   },
   "file_extension": ".py",
   "mimetype": "text/x-python",
   "name": "python",
   "nbconvert_exporter": "python",
   "pygments_lexer": "ipython3",
   "version": "3.8.1-final"
  },
  "orig_nbformat": 2,
  "kernelspec": {
   "name": "python38164bit60e19fa271104361904a34479bb15ace",
   "display_name": "Python 3.8.1 64-bit"
  }
 },
 "nbformat": 4,
 "nbformat_minor": 2
}